{
 "cells": [
  {
   "cell_type": "code",
   "execution_count": 57,
   "metadata": {},
   "outputs": [],
   "source": [
    "import pandas as pd\n",
    "import numpy as np\n",
    "import cv2\n",
    "from sklearn.model_selection import train_test_split\n",
    "from tensorflow.keras.models import Sequential\n",
    "from tensorflow.keras.layers import Dense, Flatten, Reshape, Conv2D, MaxPooling2D, Dropout\n",
    "from tensorflow.keras.optimizers import Adam\n",
    "from tensorflow.keras.callbacks import EarlyStopping\n",
    "import random\n",
    "import os"
   ]
  },
  {
   "cell_type": "code",
   "execution_count": 58,
   "metadata": {},
   "outputs": [
    {
     "data": {
      "text/html": [
       "<div>\n",
       "<style scoped>\n",
       "    .dataframe tbody tr th:only-of-type {\n",
       "        vertical-align: middle;\n",
       "    }\n",
       "\n",
       "    .dataframe tbody tr th {\n",
       "        vertical-align: top;\n",
       "    }\n",
       "\n",
       "    .dataframe thead th {\n",
       "        text-align: right;\n",
       "    }\n",
       "</style>\n",
       "<table border=\"1\" class=\"dataframe\">\n",
       "  <thead>\n",
       "    <tr style=\"text-align: right;\">\n",
       "      <th></th>\n",
       "      <th>id_img</th>\n",
       "      <th>path</th>\n",
       "      <th>label</th>\n",
       "    </tr>\n",
       "  </thead>\n",
       "  <tbody>\n",
       "    <tr>\n",
       "      <th>0</th>\n",
       "      <td>0</td>\n",
       "      <td>../data/images/train/angry\\0.jpg</td>\n",
       "      <td>angry</td>\n",
       "    </tr>\n",
       "    <tr>\n",
       "      <th>1</th>\n",
       "      <td>1</td>\n",
       "      <td>../data/images/train/angry\\1.jpg</td>\n",
       "      <td>angry</td>\n",
       "    </tr>\n",
       "    <tr>\n",
       "      <th>2</th>\n",
       "      <td>10</td>\n",
       "      <td>../data/images/train/angry\\10.jpg</td>\n",
       "      <td>angry</td>\n",
       "    </tr>\n",
       "    <tr>\n",
       "      <th>3</th>\n",
       "      <td>10002</td>\n",
       "      <td>../data/images/train/angry\\10002.jpg</td>\n",
       "      <td>angry</td>\n",
       "    </tr>\n",
       "    <tr>\n",
       "      <th>4</th>\n",
       "      <td>10016</td>\n",
       "      <td>../data/images/train/angry\\10016.jpg</td>\n",
       "      <td>angry</td>\n",
       "    </tr>\n",
       "    <tr>\n",
       "      <th>...</th>\n",
       "      <td>...</td>\n",
       "      <td>...</td>\n",
       "      <td>...</td>\n",
       "    </tr>\n",
       "    <tr>\n",
       "      <th>28816</th>\n",
       "      <td>9969</td>\n",
       "      <td>../data/images/train/surprise\\9969.jpg</td>\n",
       "      <td>surprise</td>\n",
       "    </tr>\n",
       "    <tr>\n",
       "      <th>28817</th>\n",
       "      <td>9985</td>\n",
       "      <td>../data/images/train/surprise\\9985.jpg</td>\n",
       "      <td>surprise</td>\n",
       "    </tr>\n",
       "    <tr>\n",
       "      <th>28818</th>\n",
       "      <td>9990</td>\n",
       "      <td>../data/images/train/surprise\\9990.jpg</td>\n",
       "      <td>surprise</td>\n",
       "    </tr>\n",
       "    <tr>\n",
       "      <th>28819</th>\n",
       "      <td>9992</td>\n",
       "      <td>../data/images/train/surprise\\9992.jpg</td>\n",
       "      <td>surprise</td>\n",
       "    </tr>\n",
       "    <tr>\n",
       "      <th>28820</th>\n",
       "      <td>9996</td>\n",
       "      <td>../data/images/train/surprise\\9996.jpg</td>\n",
       "      <td>surprise</td>\n",
       "    </tr>\n",
       "  </tbody>\n",
       "</table>\n",
       "<p>28821 rows × 3 columns</p>\n",
       "</div>"
      ],
      "text/plain": [
       "       id_img                                    path     label\n",
       "0           0        ../data/images/train/angry\\0.jpg     angry\n",
       "1           1        ../data/images/train/angry\\1.jpg     angry\n",
       "2          10       ../data/images/train/angry\\10.jpg     angry\n",
       "3       10002    ../data/images/train/angry\\10002.jpg     angry\n",
       "4       10016    ../data/images/train/angry\\10016.jpg     angry\n",
       "...       ...                                     ...       ...\n",
       "28816    9969  ../data/images/train/surprise\\9969.jpg  surprise\n",
       "28817    9985  ../data/images/train/surprise\\9985.jpg  surprise\n",
       "28818    9990  ../data/images/train/surprise\\9990.jpg  surprise\n",
       "28819    9992  ../data/images/train/surprise\\9992.jpg  surprise\n",
       "28820    9996  ../data/images/train/surprise\\9996.jpg  surprise\n",
       "\n",
       "[28821 rows x 3 columns]"
      ]
     },
     "execution_count": 58,
     "metadata": {},
     "output_type": "execute_result"
    }
   ],
   "source": [
    "df = pd.read_csv('train_set.csv')\n",
    "df"
   ]
  },
  {
   "cell_type": "code",
   "execution_count": 59,
   "metadata": {},
   "outputs": [],
   "source": [
    "from sklearn.preprocessing import LabelEncoder\n",
    "label_encoder = LabelEncoder()\n",
    "\n",
    "df['target'] = label_encoder.fit_transform(df['label'])"
   ]
  },
  {
   "cell_type": "code",
   "execution_count": 60,
   "metadata": {},
   "outputs": [],
   "source": [
    "df['path'] = df['path'].str.replace('\\\\', '/')\n",
    "df['path'] = df['path'].str.replace('../data/images/train/', './data/images/train/')\n",
    "\n",
    "def cargar_y_convertir_imagen(ruta_imagen):\n",
    "    image = cv2.imread(ruta_imagen, 0)\n",
    "    smallimage = cv2.resize(image, (48, 48))\n",
    "    image_array = np.array(smallimage)\n",
    "    return image_array\n",
    "\n",
    "df['imagenes'] =df['path'].apply(cargar_y_convertir_imagen)"
   ]
  },
  {
   "cell_type": "code",
   "execution_count": 61,
   "metadata": {},
   "outputs": [],
   "source": [
    "df['path'] = df['path'].str.replace('\\\\', '/')\n",
    "df['path'] = df['path'].str.replace('../data/images/train/', './data/images/train/')\n",
    "def cargar_y_convertir_imagen(ruta_imagen):\n",
    "    image = cv2.imread(ruta_imagen, cv2.IMREAD_GRAYSCALE)  # Lee la imagen en escala de grises\n",
    "    smallimage = cv2.resize(image, (48, 48))\n",
    "    \n",
    "    # Convierte la imagen a RGB replicando el canal de escala de grises\n",
    "    image_rgb = cv2.cvtColor(smallimage, cv2.COLOR_GRAY2RGB)\n",
    "    \n",
    "    return image_rgb\n",
    "\n",
    "\n",
    "df['imagenes'] = df['path'].apply(cargar_y_convertir_imagen)"
   ]
  },
  {
   "cell_type": "code",
   "execution_count": 62,
   "metadata": {},
   "outputs": [],
   "source": [
    "from sklearn.utils import shuffle\n",
    "df = shuffle(df, random_state=42)"
   ]
  },
  {
   "cell_type": "code",
   "execution_count": 63,
   "metadata": {},
   "outputs": [
    {
     "data": {
      "text/plain": [
       "(48, 48, 3)"
      ]
     },
     "execution_count": 63,
     "metadata": {},
     "output_type": "execute_result"
    }
   ],
   "source": [
    "df['imagenes'][1].shape"
   ]
  },
  {
   "cell_type": "code",
   "execution_count": 64,
   "metadata": {},
   "outputs": [],
   "source": [
    "df['imagenes'] = df['imagenes'].apply(lambda x: np.array(x).reshape(48, 48, 3))\n",
    "\n",
    "X = np.stack(df['imagenes'].to_numpy())\n",
    "y = df['target']\n",
    "\n",
    "X = X / 255.0  "
   ]
  },
  {
   "cell_type": "code",
   "execution_count": 65,
   "metadata": {},
   "outputs": [],
   "source": [
    "from keras.callbacks import ModelCheckpoint\n",
    "mcheckpoint = ModelCheckpoint(\"callback_model.h5\")"
   ]
  },
  {
   "cell_type": "code",
   "execution_count": 66,
   "metadata": {},
   "outputs": [],
   "source": [
    "from keras.callbacks import EarlyStopping\n",
    "earlystop = EarlyStopping(patience=5)"
   ]
  },
  {
   "cell_type": "code",
   "execution_count": 47,
   "metadata": {},
   "outputs": [
    {
     "name": "stdout",
     "output_type": "stream",
     "text": [
      "Model: \"sequential_11\"\n",
      "_________________________________________________________________\n",
      " Layer (type)                Output Shape              Param #   \n",
      "=================================================================\n",
      " conv2d_10 (Conv2D)          (None, 26, 26, 64)        1792      \n",
      "                                                                 \n",
      " max_pooling2d_10 (MaxPooli  (None, 13, 13, 64)        0         \n",
      " ng2D)                                                           \n",
      "                                                                 \n",
      " conv2d_11 (Conv2D)          (None, 11, 11, 128)       73856     \n",
      "                                                                 \n",
      " max_pooling2d_11 (MaxPooli  (None, 5, 5, 128)         0         \n",
      " ng2D)                                                           \n",
      "                                                                 \n",
      " flatten_10 (Flatten)        (None, 3200)              0         \n",
      "                                                                 \n",
      " dense_30 (Dense)            (None, 128)               409728    \n",
      "                                                                 \n",
      " dropout_14 (Dropout)        (None, 128)               0         \n",
      "                                                                 \n",
      " dense_31 (Dense)            (None, 64)                8256      \n",
      "                                                                 \n",
      " dropout_15 (Dropout)        (None, 64)                0         \n",
      "                                                                 \n",
      " dense_32 (Dense)            (None, 7)                 455       \n",
      "                                                                 \n",
      "=================================================================\n",
      "Total params: 494087 (1.88 MB)\n",
      "Trainable params: 494087 (1.88 MB)\n",
      "Non-trainable params: 0 (0.00 Byte)\n",
      "_________________________________________________________________\n",
      "Epoch 1/50\n",
      "824/824 [==============================] - 11s 12ms/step - loss: 1.8783 - accuracy: 0.2155 - val_loss: 1.8198 - val_accuracy: 0.2489\n",
      "Epoch 2/50\n",
      "  6/824 [..............................] - ETA: 9s - loss: 1.8057 - accuracy: 0.3036 "
     ]
    },
    {
     "name": "stderr",
     "output_type": "stream",
     "text": [
      "c:\\Users\\migue\\AppData\\Local\\Programs\\Python\\Python311\\Lib\\site-packages\\keras\\src\\engine\\training.py:3103: UserWarning: You are saving your model as an HDF5 file via `model.save()`. This file format is considered legacy. We recommend using instead the native Keras format, e.g. `model.save('my_model.keras')`.\n",
      "  saving_api.save_model(\n"
     ]
    },
    {
     "name": "stdout",
     "output_type": "stream",
     "text": [
      "824/824 [==============================] - 10s 12ms/step - loss: 1.8118 - accuracy: 0.2518 - val_loss: 1.7255 - val_accuracy: 0.2973\n",
      "Epoch 3/50\n",
      "824/824 [==============================] - 10s 12ms/step - loss: 1.7307 - accuracy: 0.3053 - val_loss: 1.6424 - val_accuracy: 0.3684\n",
      "Epoch 4/50\n",
      "824/824 [==============================] - 10s 12ms/step - loss: 1.6764 - accuracy: 0.3409 - val_loss: 1.6006 - val_accuracy: 0.3847\n",
      "Epoch 5/50\n",
      "824/824 [==============================] - 10s 12ms/step - loss: 1.6350 - accuracy: 0.3553 - val_loss: 1.5529 - val_accuracy: 0.4040\n",
      "Epoch 6/50\n",
      "824/824 [==============================] - 10s 12ms/step - loss: 1.6007 - accuracy: 0.3711 - val_loss: 1.5199 - val_accuracy: 0.4201\n",
      "Epoch 7/50\n",
      "824/824 [==============================] - 10s 12ms/step - loss: 1.5769 - accuracy: 0.3879 - val_loss: 1.5017 - val_accuracy: 0.4198\n",
      "Epoch 8/50\n",
      "824/824 [==============================] - 10s 12ms/step - loss: 1.5514 - accuracy: 0.3963 - val_loss: 1.4809 - val_accuracy: 0.4337\n",
      "Epoch 9/50\n",
      "824/824 [==============================] - 10s 12ms/step - loss: 1.5228 - accuracy: 0.4105 - val_loss: 1.4575 - val_accuracy: 0.4487\n",
      "Epoch 10/50\n",
      "824/824 [==============================] - 10s 12ms/step - loss: 1.5007 - accuracy: 0.4188 - val_loss: 1.4338 - val_accuracy: 0.4548\n",
      "Epoch 11/50\n",
      "824/824 [==============================] - 10s 12ms/step - loss: 1.4782 - accuracy: 0.4277 - val_loss: 1.4259 - val_accuracy: 0.4609\n",
      "Epoch 12/50\n",
      "824/824 [==============================] - 10s 12ms/step - loss: 1.4655 - accuracy: 0.4349 - val_loss: 1.4061 - val_accuracy: 0.4661\n",
      "Epoch 13/50\n",
      "824/824 [==============================] - 10s 12ms/step - loss: 1.4436 - accuracy: 0.4398 - val_loss: 1.4014 - val_accuracy: 0.4675\n",
      "Epoch 14/50\n",
      "824/824 [==============================] - 10s 12ms/step - loss: 1.4294 - accuracy: 0.4515 - val_loss: 1.3804 - val_accuracy: 0.4746\n",
      "Epoch 15/50\n",
      "824/824 [==============================] - 10s 12ms/step - loss: 1.4050 - accuracy: 0.4659 - val_loss: 1.3595 - val_accuracy: 0.4878\n",
      "Epoch 16/50\n",
      "824/824 [==============================] - 10s 12ms/step - loss: 1.3867 - accuracy: 0.4688 - val_loss: 1.3608 - val_accuracy: 0.4836\n",
      "Epoch 17/50\n",
      "824/824 [==============================] - 10s 12ms/step - loss: 1.3711 - accuracy: 0.4774 - val_loss: 1.3414 - val_accuracy: 0.4996\n",
      "Epoch 18/50\n",
      "824/824 [==============================] - 10s 12ms/step - loss: 1.3553 - accuracy: 0.4847 - val_loss: 1.3471 - val_accuracy: 0.4964\n",
      "Epoch 19/50\n",
      "824/824 [==============================] - 10s 12ms/step - loss: 1.3332 - accuracy: 0.4892 - val_loss: 1.3304 - val_accuracy: 0.4937\n",
      "Epoch 20/50\n",
      "824/824 [==============================] - 10s 12ms/step - loss: 1.3211 - accuracy: 0.5024 - val_loss: 1.3543 - val_accuracy: 0.4867\n",
      "Epoch 21/50\n",
      "824/824 [==============================] - 10s 12ms/step - loss: 1.2998 - accuracy: 0.5072 - val_loss: 1.3237 - val_accuracy: 0.4996\n",
      "Epoch 22/50\n",
      "824/824 [==============================] - 10s 12ms/step - loss: 1.2911 - accuracy: 0.5143 - val_loss: 1.3015 - val_accuracy: 0.5067\n",
      "Epoch 23/50\n",
      "824/824 [==============================] - 10s 12ms/step - loss: 1.2715 - accuracy: 0.5163 - val_loss: 1.2960 - val_accuracy: 0.5060\n",
      "Epoch 24/50\n",
      "824/824 [==============================] - 10s 12ms/step - loss: 1.2589 - accuracy: 0.5273 - val_loss: 1.2926 - val_accuracy: 0.5148\n",
      "Epoch 25/50\n",
      "824/824 [==============================] - 10s 12ms/step - loss: 1.2461 - accuracy: 0.5297 - val_loss: 1.2901 - val_accuracy: 0.5127\n",
      "Epoch 26/50\n",
      "824/824 [==============================] - 10s 12ms/step - loss: 1.2275 - accuracy: 0.5388 - val_loss: 1.2772 - val_accuracy: 0.5209\n",
      "Epoch 27/50\n",
      "824/824 [==============================] - 10s 12ms/step - loss: 1.2086 - accuracy: 0.5488 - val_loss: 1.2846 - val_accuracy: 0.5200\n",
      "Epoch 28/50\n",
      "824/824 [==============================] - 10s 12ms/step - loss: 1.2022 - accuracy: 0.5471 - val_loss: 1.2724 - val_accuracy: 0.5209\n",
      "Epoch 29/50\n",
      "824/824 [==============================] - 10s 12ms/step - loss: 1.1861 - accuracy: 0.5589 - val_loss: 1.2670 - val_accuracy: 0.5289\n",
      "Epoch 30/50\n",
      "824/824 [==============================] - 10s 12ms/step - loss: 1.1664 - accuracy: 0.5605 - val_loss: 1.2690 - val_accuracy: 0.5226\n",
      "Epoch 31/50\n",
      "824/824 [==============================] - 10s 12ms/step - loss: 1.1530 - accuracy: 0.5662 - val_loss: 1.2662 - val_accuracy: 0.5308\n",
      "Epoch 32/50\n",
      "824/824 [==============================] - 10s 12ms/step - loss: 1.1405 - accuracy: 0.5764 - val_loss: 1.2612 - val_accuracy: 0.5275\n",
      "Epoch 33/50\n",
      "824/824 [==============================] - 10s 12ms/step - loss: 1.1232 - accuracy: 0.5808 - val_loss: 1.2722 - val_accuracy: 0.5261\n",
      "Epoch 34/50\n",
      "824/824 [==============================] - 10s 12ms/step - loss: 1.1067 - accuracy: 0.5879 - val_loss: 1.2758 - val_accuracy: 0.5341\n",
      "Epoch 35/50\n",
      "824/824 [==============================] - 10s 12ms/step - loss: 1.0956 - accuracy: 0.5952 - val_loss: 1.2706 - val_accuracy: 0.5324\n",
      "Epoch 36/50\n",
      "824/824 [==============================] - 10s 12ms/step - loss: 1.0830 - accuracy: 0.6011 - val_loss: 1.2629 - val_accuracy: 0.5266\n",
      "Epoch 37/50\n",
      "824/824 [==============================] - 10s 12ms/step - loss: 1.0663 - accuracy: 0.6031 - val_loss: 1.2735 - val_accuracy: 0.5299\n"
     ]
    },
    {
     "data": {
      "text/plain": [
       "<keras.src.callbacks.History at 0x2c53589b910>"
      ]
     },
     "execution_count": 47,
     "metadata": {},
     "output_type": "execute_result"
    }
   ],
   "source": [
    "\n",
    "modelo_cnn = Sequential()\n",
    "modelo_cnn.add(Conv2D(64, (3, 3), activation='relu', input_shape=(48, 48, 3)))\n",
    "modelo_cnn.add(MaxPooling2D((2, 2)))\n",
    "modelo_cnn.add(Conv2D(128, (3, 3), activation='relu'))\n",
    "modelo_cnn.add(MaxPooling2D((2, 2)))\n",
    "modelo_cnn.add(Flatten())\n",
    "modelo_cnn.add(Dense(128, activation='relu'))\n",
    "modelo_cnn.add(Dropout(0.5))\n",
    "modelo_cnn.add(Dense(64, activation='relu'))\n",
    "modelo_cnn.add(Dropout(0.5))\n",
    "modelo_cnn.add(Dense(7, activation='sigmoid'))  \n",
    "\n",
    "opt = Adam(learning_rate=0.0001)\n",
    "modelo_cnn.compile(optimizer=opt, loss='sparse_categorical_crossentropy', metrics=['accuracy'])\n",
    "\n",
    "modelo_cnn.summary()\n",
    "\n",
    "modelo_cnn.fit(X, y, epochs=50, batch_size=48, validation_split=0.2, callbacks=[earlystop, mcheckpoint])"
   ]
  },
  {
   "cell_type": "code",
   "execution_count": 67,
   "metadata": {},
   "outputs": [
    {
     "name": "stdout",
     "output_type": "stream",
     "text": [
      "Model: \"sequential_12\"\n",
      "_________________________________________________________________\n",
      " Layer (type)                Output Shape              Param #   \n",
      "=================================================================\n",
      " conv2d_12 (Conv2D)          (None, 46, 46, 32)        896       \n",
      "                                                                 \n",
      " max_pooling2d_12 (MaxPooli  (None, 23, 23, 32)        0         \n",
      " ng2D)                                                           \n",
      "                                                                 \n",
      " conv2d_13 (Conv2D)          (None, 21, 21, 64)        18496     \n",
      "                                                                 \n",
      " max_pooling2d_13 (MaxPooli  (None, 10, 10, 64)        0         \n",
      " ng2D)                                                           \n",
      "                                                                 \n",
      " conv2d_14 (Conv2D)          (None, 8, 8, 128)         73856     \n",
      "                                                                 \n",
      " max_pooling2d_14 (MaxPooli  (None, 4, 4, 128)         0         \n",
      " ng2D)                                                           \n",
      "                                                                 \n",
      " flatten_11 (Flatten)        (None, 2048)              0         \n",
      "                                                                 \n",
      " dense_33 (Dense)            (None, 256)               524544    \n",
      "                                                                 \n",
      " dropout_16 (Dropout)        (None, 256)               0         \n",
      "                                                                 \n",
      " dense_34 (Dense)            (None, 128)               32896     \n",
      "                                                                 \n",
      " dropout_17 (Dropout)        (None, 128)               0         \n",
      "                                                                 \n",
      " dense_35 (Dense)            (None, 7)                 903       \n",
      "                                                                 \n",
      "=================================================================\n",
      "Total params: 651591 (2.49 MB)\n",
      "Trainable params: 651591 (2.49 MB)\n",
      "Non-trainable params: 0 (0.00 Byte)\n",
      "_________________________________________________________________\n",
      "Epoch 1/50\n",
      "481/481 [==============================] - 14s 28ms/step - loss: 1.8555 - accuracy: 0.2274 - val_loss: 1.8033 - val_accuracy: 0.2418\n",
      "Epoch 2/50\n",
      "  5/481 [..............................] - ETA: 12s - loss: 1.8037 - accuracy: 0.2542"
     ]
    },
    {
     "name": "stderr",
     "output_type": "stream",
     "text": [
      "c:\\Users\\migue\\AppData\\Local\\Programs\\Python\\Python311\\Lib\\site-packages\\keras\\src\\engine\\training.py:3103: UserWarning: You are saving your model as an HDF5 file via `model.save()`. This file format is considered legacy. We recommend using instead the native Keras format, e.g. `model.save('my_model.keras')`.\n",
      "  saving_api.save_model(\n"
     ]
    },
    {
     "name": "stdout",
     "output_type": "stream",
     "text": [
      "481/481 [==============================] - 13s 28ms/step - loss: 1.7756 - accuracy: 0.2780 - val_loss: 1.6870 - val_accuracy: 0.3384\n",
      "Epoch 3/50\n",
      "481/481 [==============================] - 13s 27ms/step - loss: 1.6632 - accuracy: 0.3472 - val_loss: 1.5800 - val_accuracy: 0.3853\n",
      "Epoch 4/50\n",
      "481/481 [==============================] - 13s 27ms/step - loss: 1.5955 - accuracy: 0.3773 - val_loss: 1.5094 - val_accuracy: 0.4191\n",
      "Epoch 5/50\n",
      "481/481 [==============================] - 13s 27ms/step - loss: 1.5455 - accuracy: 0.4019 - val_loss: 1.4768 - val_accuracy: 0.4364\n",
      "Epoch 6/50\n",
      "481/481 [==============================] - 13s 27ms/step - loss: 1.5037 - accuracy: 0.4172 - val_loss: 1.4353 - val_accuracy: 0.4598\n",
      "Epoch 7/50\n",
      "481/481 [==============================] - 13s 27ms/step - loss: 1.4598 - accuracy: 0.4383 - val_loss: 1.3951 - val_accuracy: 0.4715\n",
      "Epoch 8/50\n",
      "481/481 [==============================] - 13s 27ms/step - loss: 1.4284 - accuracy: 0.4539 - val_loss: 1.3679 - val_accuracy: 0.4777\n",
      "Epoch 9/50\n",
      "481/481 [==============================] - 13s 27ms/step - loss: 1.3897 - accuracy: 0.4662 - val_loss: 1.3574 - val_accuracy: 0.4869\n",
      "Epoch 10/50\n",
      "481/481 [==============================] - 13s 27ms/step - loss: 1.3657 - accuracy: 0.4800 - val_loss: 1.3413 - val_accuracy: 0.4937\n",
      "Epoch 11/50\n",
      "481/481 [==============================] - 13s 27ms/step - loss: 1.3342 - accuracy: 0.4947 - val_loss: 1.2939 - val_accuracy: 0.5121\n",
      "Epoch 12/50\n",
      "481/481 [==============================] - 13s 27ms/step - loss: 1.3053 - accuracy: 0.5053 - val_loss: 1.2707 - val_accuracy: 0.5216\n",
      "Epoch 13/50\n",
      "481/481 [==============================] - 14s 28ms/step - loss: 1.2852 - accuracy: 0.5168 - val_loss: 1.2621 - val_accuracy: 0.5207\n",
      "Epoch 14/50\n",
      "481/481 [==============================] - 13s 27ms/step - loss: 1.2584 - accuracy: 0.5284 - val_loss: 1.2583 - val_accuracy: 0.5256\n",
      "Epoch 15/50\n",
      "481/481 [==============================] - 13s 27ms/step - loss: 1.2371 - accuracy: 0.5372 - val_loss: 1.2309 - val_accuracy: 0.5372\n",
      "Epoch 16/50\n",
      "481/481 [==============================] - 13s 27ms/step - loss: 1.2173 - accuracy: 0.5420 - val_loss: 1.2161 - val_accuracy: 0.5402\n",
      "Epoch 17/50\n",
      "481/481 [==============================] - 13s 27ms/step - loss: 1.1956 - accuracy: 0.5530 - val_loss: 1.2071 - val_accuracy: 0.5476\n",
      "Epoch 18/50\n",
      "481/481 [==============================] - 13s 28ms/step - loss: 1.1666 - accuracy: 0.5632 - val_loss: 1.2249 - val_accuracy: 0.5358\n",
      "Epoch 19/50\n",
      "481/481 [==============================] - 13s 27ms/step - loss: 1.1447 - accuracy: 0.5727 - val_loss: 1.1930 - val_accuracy: 0.5497\n",
      "Epoch 20/50\n",
      "481/481 [==============================] - 13s 27ms/step - loss: 1.1262 - accuracy: 0.5793 - val_loss: 1.1859 - val_accuracy: 0.5542\n",
      "Epoch 21/50\n",
      "481/481 [==============================] - 13s 27ms/step - loss: 1.1099 - accuracy: 0.5848 - val_loss: 1.1787 - val_accuracy: 0.5624\n",
      "Epoch 22/50\n",
      "481/481 [==============================] - 14s 29ms/step - loss: 1.0859 - accuracy: 0.5949 - val_loss: 1.1881 - val_accuracy: 0.5559\n",
      "Epoch 23/50\n",
      "481/481 [==============================] - 13s 27ms/step - loss: 1.0712 - accuracy: 0.5997 - val_loss: 1.1693 - val_accuracy: 0.5653\n",
      "Epoch 24/50\n",
      "481/481 [==============================] - 13s 27ms/step - loss: 1.0466 - accuracy: 0.6082 - val_loss: 1.1613 - val_accuracy: 0.5637\n",
      "Epoch 25/50\n",
      "481/481 [==============================] - 13s 27ms/step - loss: 1.0202 - accuracy: 0.6213 - val_loss: 1.1640 - val_accuracy: 0.5657\n",
      "Epoch 26/50\n",
      "481/481 [==============================] - 13s 27ms/step - loss: 1.0086 - accuracy: 0.6276 - val_loss: 1.1691 - val_accuracy: 0.5622\n",
      "Epoch 27/50\n",
      "481/481 [==============================] - 13s 27ms/step - loss: 0.9899 - accuracy: 0.6363 - val_loss: 1.1655 - val_accuracy: 0.5674\n",
      "Epoch 28/50\n",
      "481/481 [==============================] - 13s 27ms/step - loss: 0.9654 - accuracy: 0.6407 - val_loss: 1.1792 - val_accuracy: 0.5691\n",
      "Epoch 29/50\n",
      "481/481 [==============================] - 13s 27ms/step - loss: 0.9501 - accuracy: 0.6500 - val_loss: 1.1559 - val_accuracy: 0.5712\n",
      "Epoch 30/50\n",
      "481/481 [==============================] - 13s 27ms/step - loss: 0.9268 - accuracy: 0.6589 - val_loss: 1.1820 - val_accuracy: 0.5726\n",
      "Epoch 31/50\n",
      "481/481 [==============================] - 13s 27ms/step - loss: 0.9083 - accuracy: 0.6683 - val_loss: 1.1839 - val_accuracy: 0.5663\n",
      "Epoch 32/50\n",
      "481/481 [==============================] - 13s 27ms/step - loss: 0.8854 - accuracy: 0.6738 - val_loss: 1.1756 - val_accuracy: 0.5733\n",
      "Epoch 33/50\n",
      "481/481 [==============================] - 13s 27ms/step - loss: 0.8644 - accuracy: 0.6830 - val_loss: 1.1869 - val_accuracy: 0.5705\n",
      "Epoch 34/50\n",
      "481/481 [==============================] - 13s 27ms/step - loss: 0.8498 - accuracy: 0.6896 - val_loss: 1.1935 - val_accuracy: 0.5761\n"
     ]
    },
    {
     "data": {
      "text/plain": [
       "<keras.src.callbacks.History at 0x2c549dbe5d0>"
      ]
     },
     "execution_count": 67,
     "metadata": {},
     "output_type": "execute_result"
    }
   ],
   "source": [
    "#prueba con 48x48x3\n",
    "modelo_cnn = Sequential()\n",
    "modelo_cnn.add(Conv2D(32, (3, 3), activation='relu', input_shape=(48, 48, 3)))\n",
    "modelo_cnn.add(MaxPooling2D((2, 2)))\n",
    "modelo_cnn.add(Conv2D(64, (3, 3), activation='relu'))\n",
    "modelo_cnn.add(MaxPooling2D((2, 2)))\n",
    "modelo_cnn.add(Conv2D(128, (3, 3), activation='relu'))\n",
    "modelo_cnn.add(MaxPooling2D((2, 2)))\n",
    "modelo_cnn.add(Flatten())\n",
    "modelo_cnn.add(Dense(256, activation='relu'))\n",
    "modelo_cnn.add(Dropout(0.5))\n",
    "modelo_cnn.add(Dense(128, activation='relu'))\n",
    "modelo_cnn.add(Dropout(0.5))\n",
    "modelo_cnn.add(Dense(7, activation='sigmoid'))  \n",
    "\n",
    "opt = Adam(learning_rate=0.0001)\n",
    "modelo_cnn.compile(optimizer=opt, loss='sparse_categorical_crossentropy', metrics=['accuracy'])\n",
    "\n",
    "modelo_cnn.summary()\n",
    "\n",
    "modelo_cnn.fit(X, y, epochs=50, batch_size=48, validation_split=0.2, callbacks=[earlystop, mcheckpoint])"
   ]
  },
  {
   "cell_type": "code",
   "execution_count": 68,
   "metadata": {},
   "outputs": [],
   "source": [
    "from tensorflow.keras.models import save_model\n",
    "\n",
    "modelo_cnn.save('modelo_cnn28x28.h5')"
   ]
  },
  {
   "cell_type": "code",
   "execution_count": 69,
   "metadata": {},
   "outputs": [],
   "source": [
    "test=pd.read_csv('test_set.csv')"
   ]
  },
  {
   "cell_type": "code",
   "execution_count": 70,
   "metadata": {},
   "outputs": [],
   "source": [
    "test['path'] = test['id_img'].apply(lambda x: f'./data/images/test/{x}.jpg')"
   ]
  },
  {
   "cell_type": "code",
   "execution_count": 71,
   "metadata": {},
   "outputs": [],
   "source": [
    "test['imagenes'] = test['path'].apply(cargar_y_convertir_imagen)"
   ]
  },
  {
   "cell_type": "code",
   "execution_count": 72,
   "metadata": {},
   "outputs": [
    {
     "name": "stdout",
     "output_type": "stream",
     "text": [
      "221/221 [==============================] - 1s 6ms/step\n"
     ]
    }
   ],
   "source": [
    "from tensorflow.keras.models import load_model\n",
    "\n",
    "# Cargar el modelo entrenado\n",
    "modelo_cnn = load_model('modelo_cnn28x28.h5')  # Reemplaza 'modelo_cnn.h5' con el nombre de tu modelo guardado\n",
    "\n",
    "# Aplanar las imágenes y remodelarlas a 48x48\n",
    "test['imagenes'] = test['imagenes'].apply(lambda x: np.array(x).reshape(48, 48, 3))\n",
    "\n",
    "# Normalizar las imágenes\n",
    "test['imagenes'] = test['imagenes'] / 255.0\n",
    "\n",
    "# Hacer predicciones en el conjunto de prueba\n",
    "X_test = np.stack(test['imagenes'].to_numpy())\n",
    "predicciones = modelo_cnn.predict(X_test)\n",
    "\n",
    "# Obtener las etiquetas predichas\n",
    "predicciones_labels = np.argmax(predicciones, axis=1)\n",
    "\n",
    "# Agregar las etiquetas predichas al DataFrame test\n",
    "test['label_encoded_pred'] = predicciones_labels"
   ]
  },
  {
   "cell_type": "code",
   "execution_count": 73,
   "metadata": {},
   "outputs": [],
   "source": [
    "test.drop(columns=(['path', 'imagenes']), inplace=True)"
   ]
  },
  {
   "cell_type": "code",
   "execution_count": 74,
   "metadata": {},
   "outputs": [],
   "source": [
    "test['label'] = label_encoder.inverse_transform(predicciones_labels)"
   ]
  },
  {
   "cell_type": "code",
   "execution_count": 75,
   "metadata": {},
   "outputs": [],
   "source": [
    "submission = pd.DataFrame({'id_img': test['id_img'], 'label': test['label']})\n",
    "\n",
    "submission.to_csv('submission.csv', index=False)"
   ]
  }
 ],
 "metadata": {
  "kernelspec": {
   "display_name": "Python 3",
   "language": "python",
   "name": "python3"
  },
  "language_info": {
   "codemirror_mode": {
    "name": "ipython",
    "version": 3
   },
   "file_extension": ".py",
   "mimetype": "text/x-python",
   "name": "python",
   "nbconvert_exporter": "python",
   "pygments_lexer": "ipython3",
   "version": "3.11.5"
  }
 },
 "nbformat": 4,
 "nbformat_minor": 2
}
