{
 "cells": [
  {
   "cell_type": "code",
   "execution_count": 21,
   "metadata": {},
   "outputs": [],
   "source": [
    "import pandas as pd\n",
    "import numpy as np\n",
    "import cv2\n",
    "from sklearn.model_selection import train_test_split\n",
    "from tensorflow.keras.models import Sequential\n",
    "from tensorflow.keras.layers import Dense, Flatten, Reshape, Conv2D, MaxPooling2D\n",
    "from tensorflow.keras.optimizers import Adam\n",
    "from tensorflow.keras.callbacks import EarlyStopping\n",
    "import random\n",
    "import os"
   ]
  },
  {
   "cell_type": "code",
   "execution_count": 2,
   "metadata": {},
   "outputs": [
    {
     "data": {
      "text/html": [
       "<div>\n",
       "<style scoped>\n",
       "    .dataframe tbody tr th:only-of-type {\n",
       "        vertical-align: middle;\n",
       "    }\n",
       "\n",
       "    .dataframe tbody tr th {\n",
       "        vertical-align: top;\n",
       "    }\n",
       "\n",
       "    .dataframe thead th {\n",
       "        text-align: right;\n",
       "    }\n",
       "</style>\n",
       "<table border=\"1\" class=\"dataframe\">\n",
       "  <thead>\n",
       "    <tr style=\"text-align: right;\">\n",
       "      <th></th>\n",
       "      <th>id_img</th>\n",
       "      <th>path</th>\n",
       "      <th>label</th>\n",
       "    </tr>\n",
       "  </thead>\n",
       "  <tbody>\n",
       "    <tr>\n",
       "      <th>0</th>\n",
       "      <td>0</td>\n",
       "      <td>../data/images/train/angry\\0.jpg</td>\n",
       "      <td>angry</td>\n",
       "    </tr>\n",
       "    <tr>\n",
       "      <th>1</th>\n",
       "      <td>1</td>\n",
       "      <td>../data/images/train/angry\\1.jpg</td>\n",
       "      <td>angry</td>\n",
       "    </tr>\n",
       "    <tr>\n",
       "      <th>2</th>\n",
       "      <td>10</td>\n",
       "      <td>../data/images/train/angry\\10.jpg</td>\n",
       "      <td>angry</td>\n",
       "    </tr>\n",
       "    <tr>\n",
       "      <th>3</th>\n",
       "      <td>10002</td>\n",
       "      <td>../data/images/train/angry\\10002.jpg</td>\n",
       "      <td>angry</td>\n",
       "    </tr>\n",
       "    <tr>\n",
       "      <th>4</th>\n",
       "      <td>10016</td>\n",
       "      <td>../data/images/train/angry\\10016.jpg</td>\n",
       "      <td>angry</td>\n",
       "    </tr>\n",
       "    <tr>\n",
       "      <th>...</th>\n",
       "      <td>...</td>\n",
       "      <td>...</td>\n",
       "      <td>...</td>\n",
       "    </tr>\n",
       "    <tr>\n",
       "      <th>28816</th>\n",
       "      <td>9969</td>\n",
       "      <td>../data/images/train/surprise\\9969.jpg</td>\n",
       "      <td>surprise</td>\n",
       "    </tr>\n",
       "    <tr>\n",
       "      <th>28817</th>\n",
       "      <td>9985</td>\n",
       "      <td>../data/images/train/surprise\\9985.jpg</td>\n",
       "      <td>surprise</td>\n",
       "    </tr>\n",
       "    <tr>\n",
       "      <th>28818</th>\n",
       "      <td>9990</td>\n",
       "      <td>../data/images/train/surprise\\9990.jpg</td>\n",
       "      <td>surprise</td>\n",
       "    </tr>\n",
       "    <tr>\n",
       "      <th>28819</th>\n",
       "      <td>9992</td>\n",
       "      <td>../data/images/train/surprise\\9992.jpg</td>\n",
       "      <td>surprise</td>\n",
       "    </tr>\n",
       "    <tr>\n",
       "      <th>28820</th>\n",
       "      <td>9996</td>\n",
       "      <td>../data/images/train/surprise\\9996.jpg</td>\n",
       "      <td>surprise</td>\n",
       "    </tr>\n",
       "  </tbody>\n",
       "</table>\n",
       "<p>28821 rows × 3 columns</p>\n",
       "</div>"
      ],
      "text/plain": [
       "       id_img                                    path     label\n",
       "0           0        ../data/images/train/angry\\0.jpg     angry\n",
       "1           1        ../data/images/train/angry\\1.jpg     angry\n",
       "2          10       ../data/images/train/angry\\10.jpg     angry\n",
       "3       10002    ../data/images/train/angry\\10002.jpg     angry\n",
       "4       10016    ../data/images/train/angry\\10016.jpg     angry\n",
       "...       ...                                     ...       ...\n",
       "28816    9969  ../data/images/train/surprise\\9969.jpg  surprise\n",
       "28817    9985  ../data/images/train/surprise\\9985.jpg  surprise\n",
       "28818    9990  ../data/images/train/surprise\\9990.jpg  surprise\n",
       "28819    9992  ../data/images/train/surprise\\9992.jpg  surprise\n",
       "28820    9996  ../data/images/train/surprise\\9996.jpg  surprise\n",
       "\n",
       "[28821 rows x 3 columns]"
      ]
     },
     "execution_count": 2,
     "metadata": {},
     "output_type": "execute_result"
    }
   ],
   "source": [
    "df = pd.read_csv('train_set.csv')\n",
    "df"
   ]
  },
  {
   "cell_type": "code",
   "execution_count": 3,
   "metadata": {},
   "outputs": [],
   "source": [
    "from sklearn.preprocessing import LabelEncoder\n",
    "label_encoder = LabelEncoder()\n",
    "\n",
    "df['target'] = label_encoder.fit_transform(df['label'])"
   ]
  },
  {
   "cell_type": "code",
   "execution_count": 23,
   "metadata": {},
   "outputs": [],
   "source": [
    "df['path'] = df['path'].str.replace('\\\\', '/')\n",
    "df['path'] = df['path'].str.replace('../data/images/train/', './data/images/train/')\n",
    "\n",
    "def cargar_y_convertir_imagen(ruta_imagen):\n",
    "    image = cv2.imread(ruta_imagen, 0)\n",
    "    smallimage = cv2.resize(image, (32, 32))\n",
    "    image_array = np.array(smallimage)\n",
    "    return image_array\n",
    "\n",
    "df['imagenes'] =df['path'].apply(cargar_y_convertir_imagen)"
   ]
  },
  {
   "cell_type": "code",
   "execution_count": 8,
   "metadata": {},
   "outputs": [],
   "source": [
    "from sklearn.utils import shuffle\n",
    "df = shuffle(df, random_state=42)"
   ]
  },
  {
   "cell_type": "code",
   "execution_count": 44,
   "metadata": {},
   "outputs": [],
   "source": [
    "df['imagenes'] = df['imagenes'].apply(lambda x: np.array(x).reshape(32, 32, 1))\n",
    "\n",
    "X = np.stack(df['imagenes'].to_numpy())\n",
    "y = df['target']\n",
    "\n",
    "X = X / 255.0 \n"
   ]
  },
  {
   "cell_type": "code",
   "execution_count": 45,
   "metadata": {},
   "outputs": [],
   "source": [
    "from keras.callbacks import ModelCheckpoint\n",
    "mcheckpoint = ModelCheckpoint(\"callback_model.h5\")"
   ]
  },
  {
   "cell_type": "code",
   "execution_count": 46,
   "metadata": {},
   "outputs": [],
   "source": [
    "from keras.callbacks import EarlyStopping\n",
    "earlystop = EarlyStopping(patience=5)"
   ]
  },
  {
   "cell_type": "code",
   "execution_count": 47,
   "metadata": {},
   "outputs": [
    {
     "name": "stdout",
     "output_type": "stream",
     "text": [
      "Model: \"sequential_4\"\n",
      "_________________________________________________________________\n",
      " Layer (type)                Output Shape              Param #   \n",
      "=================================================================\n",
      " conv2d_8 (Conv2D)           (None, 30, 30, 64)        640       \n",
      "                                                                 \n",
      " max_pooling2d_8 (MaxPoolin  (None, 15, 15, 64)        0         \n",
      " g2D)                                                            \n",
      "                                                                 \n",
      " conv2d_9 (Conv2D)           (None, 13, 13, 128)       73856     \n",
      "                                                                 \n",
      " max_pooling2d_9 (MaxPoolin  (None, 6, 6, 128)         0         \n",
      " g2D)                                                            \n",
      "                                                                 \n",
      " flatten_4 (Flatten)         (None, 4608)              0         \n",
      "                                                                 \n",
      " dense_12 (Dense)            (None, 128)               589952    \n",
      "                                                                 \n",
      " dense_13 (Dense)            (None, 64)                8256      \n",
      "                                                                 \n",
      " dense_14 (Dense)            (None, 7)                 455       \n",
      "                                                                 \n",
      "=================================================================\n",
      "Total params: 673159 (2.57 MB)\n",
      "Trainable params: 673159 (2.57 MB)\n",
      "Non-trainable params: 0 (0.00 Byte)\n",
      "_________________________________________________________________\n",
      "Epoch 1/50\n",
      "721/721 [==============================] - 13s 18ms/step - loss: 1.6594 - accuracy: 0.3377 - val_loss: 1.5378 - val_accuracy: 0.4049\n",
      "Epoch 2/50\n",
      "721/721 [==============================] - 13s 18ms/step - loss: 1.4509 - accuracy: 0.4406 - val_loss: 1.3882 - val_accuracy: 0.4650\n",
      "Epoch 3/50\n",
      "721/721 [==============================] - 12s 17ms/step - loss: 1.3415 - accuracy: 0.4857 - val_loss: 1.3361 - val_accuracy: 0.4824\n",
      "Epoch 4/50\n",
      "721/721 [==============================] - 13s 17ms/step - loss: 1.2588 - accuracy: 0.5222 - val_loss: 1.3058 - val_accuracy: 0.4984\n",
      "Epoch 5/50\n",
      "721/721 [==============================] - 13s 17ms/step - loss: 1.1798 - accuracy: 0.5527 - val_loss: 1.2734 - val_accuracy: 0.5193\n",
      "Epoch 6/50\n",
      "721/721 [==============================] - 12s 17ms/step - loss: 1.1095 - accuracy: 0.5820 - val_loss: 1.3099 - val_accuracy: 0.5063\n",
      "Epoch 7/50\n",
      "721/721 [==============================] - 12s 17ms/step - loss: 1.0359 - accuracy: 0.6128 - val_loss: 1.2767 - val_accuracy: 0.5199\n",
      "Epoch 8/50\n",
      "721/721 [==============================] - 13s 17ms/step - loss: 0.9675 - accuracy: 0.6425 - val_loss: 1.3185 - val_accuracy: 0.5181\n",
      "Epoch 9/50\n",
      "721/721 [==============================] - 13s 18ms/step - loss: 0.8950 - accuracy: 0.6715 - val_loss: 1.3284 - val_accuracy: 0.5292\n",
      "Epoch 10/50\n",
      "721/721 [==============================] - 13s 17ms/step - loss: 0.8239 - accuracy: 0.6924 - val_loss: 1.3889 - val_accuracy: 0.5301\n"
     ]
    },
    {
     "data": {
      "text/plain": [
       "<keras.src.callbacks.History at 0x1a6eec91010>"
      ]
     },
     "execution_count": 47,
     "metadata": {},
     "output_type": "execute_result"
    }
   ],
   "source": [
    "modelo_cnn = Sequential()\n",
    "modelo_cnn.add(Conv2D(64, (3, 3), activation='relu', input_shape=(32, 32, 1)))\n",
    "modelo_cnn.add(MaxPooling2D((2, 2)))\n",
    "modelo_cnn.add(Conv2D(128, (3, 3), activation='relu'))\n",
    "modelo_cnn.add(MaxPooling2D((2, 2)))\n",
    "modelo_cnn.add(Flatten())\n",
    "modelo_cnn.add(Dense(128, activation='relu'))\n",
    "modelo_cnn.add(Dense(64, activation='relu'))\n",
    "modelo_cnn.add(Dense(7, activation='sigmoid'))\n",
    "\n",
    "modelo_cnn.compile(optimizer='adam', loss='sparse_categorical_crossentropy', metrics=['accuracy'])\n",
    "\n",
    "modelo_cnn.summary()\n",
    "\n",
    "modelo_cnn.fit(X, y, epochs=50, batch_size=32, validation_split=0.2,callbacks = [earlystop, mcheckpoint])\n",
    "\n"
   ]
  },
  {
   "cell_type": "code",
   "execution_count": 48,
   "metadata": {},
   "outputs": [],
   "source": [
    "from tensorflow.keras.models import save_model\n",
    "\n",
    "modelo_cnn.save('modelo_cnn.h5')"
   ]
  },
  {
   "cell_type": "code",
   "execution_count": 49,
   "metadata": {},
   "outputs": [],
   "source": [
    "test=pd.read_csv('test_set.csv')"
   ]
  },
  {
   "cell_type": "code",
   "execution_count": 50,
   "metadata": {},
   "outputs": [],
   "source": [
    "test['path'] = test['id_img'].apply(lambda x: f'./data/images/test/{x}.jpg')"
   ]
  },
  {
   "cell_type": "code",
   "execution_count": 51,
   "metadata": {},
   "outputs": [],
   "source": [
    "test['imagenes'] = test['path'].apply(cargar_y_convertir_imagen)"
   ]
  },
  {
   "cell_type": "code",
   "execution_count": 53,
   "metadata": {},
   "outputs": [
    {
     "data": {
      "text/html": [
       "<div>\n",
       "<style scoped>\n",
       "    .dataframe tbody tr th:only-of-type {\n",
       "        vertical-align: middle;\n",
       "    }\n",
       "\n",
       "    .dataframe tbody tr th {\n",
       "        vertical-align: top;\n",
       "    }\n",
       "\n",
       "    .dataframe thead th {\n",
       "        text-align: right;\n",
       "    }\n",
       "</style>\n",
       "<table border=\"1\" class=\"dataframe\">\n",
       "  <thead>\n",
       "    <tr style=\"text-align: right;\">\n",
       "      <th></th>\n",
       "      <th>id_img</th>\n",
       "      <th>path</th>\n",
       "      <th>imagenes</th>\n",
       "    </tr>\n",
       "  </thead>\n",
       "  <tbody>\n",
       "    <tr>\n",
       "      <th>0</th>\n",
       "      <td>10052</td>\n",
       "      <td>./data/images/test/10052.jpg</td>\n",
       "      <td>[[61, 69, 92, 141, 123, 79, 70, 76, 84, 84, 11...</td>\n",
       "    </tr>\n",
       "    <tr>\n",
       "      <th>1</th>\n",
       "      <td>10065</td>\n",
       "      <td>./data/images/test/10065.jpg</td>\n",
       "      <td>[[25, 22, 8, 19, 28, 12, 77, 83, 39, 43, 39, 2...</td>\n",
       "    </tr>\n",
       "    <tr>\n",
       "      <th>2</th>\n",
       "      <td>10079</td>\n",
       "      <td>./data/images/test/10079.jpg</td>\n",
       "      <td>[[196, 182, 190, 203, 205, 222, 229, 231, 231,...</td>\n",
       "    </tr>\n",
       "    <tr>\n",
       "      <th>3</th>\n",
       "      <td>10095</td>\n",
       "      <td>./data/images/test/10095.jpg</td>\n",
       "      <td>[[87, 77, 76, 86, 100, 99, 108, 123, 149, 160,...</td>\n",
       "    </tr>\n",
       "    <tr>\n",
       "      <th>4</th>\n",
       "      <td>10121</td>\n",
       "      <td>./data/images/test/10121.jpg</td>\n",
       "      <td>[[8, 2, 0, 1, 0, 1, 0, 1, 0, 2, 0, 0, 1, 0, 1,...</td>\n",
       "    </tr>\n",
       "  </tbody>\n",
       "</table>\n",
       "</div>"
      ],
      "text/plain": [
       "   id_img                          path  \\\n",
       "0   10052  ./data/images/test/10052.jpg   \n",
       "1   10065  ./data/images/test/10065.jpg   \n",
       "2   10079  ./data/images/test/10079.jpg   \n",
       "3   10095  ./data/images/test/10095.jpg   \n",
       "4   10121  ./data/images/test/10121.jpg   \n",
       "\n",
       "                                            imagenes  \n",
       "0  [[61, 69, 92, 141, 123, 79, 70, 76, 84, 84, 11...  \n",
       "1  [[25, 22, 8, 19, 28, 12, 77, 83, 39, 43, 39, 2...  \n",
       "2  [[196, 182, 190, 203, 205, 222, 229, 231, 231,...  \n",
       "3  [[87, 77, 76, 86, 100, 99, 108, 123, 149, 160,...  \n",
       "4  [[8, 2, 0, 1, 0, 1, 0, 1, 0, 2, 0, 0, 1, 0, 1,...  "
      ]
     },
     "execution_count": 53,
     "metadata": {},
     "output_type": "execute_result"
    }
   ],
   "source": [
    "test.head()"
   ]
  },
  {
   "cell_type": "code",
   "execution_count": 54,
   "metadata": {},
   "outputs": [
    {
     "name": "stdout",
     "output_type": "stream",
     "text": [
      "221/221 [==============================] - 1s 5ms/step\n"
     ]
    }
   ],
   "source": [
    "from tensorflow.keras.models import load_model\n",
    "\n",
    "modelo_cnn = load_model('modelo_cnn.h5')  \n",
    "\n",
    "test['imagenes'] = test['imagenes'].apply(lambda x: np.array(x).reshape(32, 32, 1))\n",
    "\n",
    "test['imagenes'] = test['imagenes'] / 255.0\n",
    "\n",
    "X_test = np.stack(test['imagenes'].to_numpy())\n",
    "predicciones = modelo_cnn.predict(X_test)\n",
    "\n",
    "predicciones_labels = np.argmax(predicciones, axis=1)\n",
    "\n",
    "test['label_encoded_pred'] = predicciones_labels"
   ]
  },
  {
   "cell_type": "code",
   "execution_count": 55,
   "metadata": {},
   "outputs": [],
   "source": [
    "test.drop(columns=(['path', 'imagenes']), inplace=True)"
   ]
  },
  {
   "cell_type": "code",
   "execution_count": 56,
   "metadata": {},
   "outputs": [],
   "source": [
    "test['label'] = label_encoder.inverse_transform(predicciones_labels)"
   ]
  },
  {
   "cell_type": "code",
   "execution_count": 57,
   "metadata": {},
   "outputs": [],
   "source": [
    "submission = pd.DataFrame({'id_img': test['id_img'], 'label': test['label']})\n",
    "\n",
    "submission.to_csv('submission.csv', index=False)"
   ]
  },
  {
   "cell_type": "code",
   "execution_count": 58,
   "metadata": {},
   "outputs": [
    {
     "data": {
      "text/html": [
       "<div>\n",
       "<style scoped>\n",
       "    .dataframe tbody tr th:only-of-type {\n",
       "        vertical-align: middle;\n",
       "    }\n",
       "\n",
       "    .dataframe tbody tr th {\n",
       "        vertical-align: top;\n",
       "    }\n",
       "\n",
       "    .dataframe thead th {\n",
       "        text-align: right;\n",
       "    }\n",
       "</style>\n",
       "<table border=\"1\" class=\"dataframe\">\n",
       "  <thead>\n",
       "    <tr style=\"text-align: right;\">\n",
       "      <th></th>\n",
       "      <th>id_img</th>\n",
       "      <th>label</th>\n",
       "    </tr>\n",
       "  </thead>\n",
       "  <tbody>\n",
       "    <tr>\n",
       "      <th>0</th>\n",
       "      <td>10052</td>\n",
       "      <td>angry</td>\n",
       "    </tr>\n",
       "    <tr>\n",
       "      <th>1</th>\n",
       "      <td>10065</td>\n",
       "      <td>sad</td>\n",
       "    </tr>\n",
       "    <tr>\n",
       "      <th>2</th>\n",
       "      <td>10079</td>\n",
       "      <td>angry</td>\n",
       "    </tr>\n",
       "    <tr>\n",
       "      <th>3</th>\n",
       "      <td>10095</td>\n",
       "      <td>angry</td>\n",
       "    </tr>\n",
       "    <tr>\n",
       "      <th>4</th>\n",
       "      <td>10121</td>\n",
       "      <td>angry</td>\n",
       "    </tr>\n",
       "    <tr>\n",
       "      <th>...</th>\n",
       "      <td>...</td>\n",
       "      <td>...</td>\n",
       "    </tr>\n",
       "    <tr>\n",
       "      <th>7061</th>\n",
       "      <td>9806</td>\n",
       "      <td>surprise</td>\n",
       "    </tr>\n",
       "    <tr>\n",
       "      <th>7062</th>\n",
       "      <td>9830</td>\n",
       "      <td>happy</td>\n",
       "    </tr>\n",
       "    <tr>\n",
       "      <th>7063</th>\n",
       "      <td>9853</td>\n",
       "      <td>surprise</td>\n",
       "    </tr>\n",
       "    <tr>\n",
       "      <th>7064</th>\n",
       "      <td>9878</td>\n",
       "      <td>fear</td>\n",
       "    </tr>\n",
       "    <tr>\n",
       "      <th>7065</th>\n",
       "      <td>993</td>\n",
       "      <td>surprise</td>\n",
       "    </tr>\n",
       "  </tbody>\n",
       "</table>\n",
       "<p>7066 rows × 2 columns</p>\n",
       "</div>"
      ],
      "text/plain": [
       "      id_img     label\n",
       "0      10052     angry\n",
       "1      10065       sad\n",
       "2      10079     angry\n",
       "3      10095     angry\n",
       "4      10121     angry\n",
       "...      ...       ...\n",
       "7061    9806  surprise\n",
       "7062    9830     happy\n",
       "7063    9853  surprise\n",
       "7064    9878      fear\n",
       "7065     993  surprise\n",
       "\n",
       "[7066 rows x 2 columns]"
      ]
     },
     "execution_count": 58,
     "metadata": {},
     "output_type": "execute_result"
    }
   ],
   "source": [
    "submission"
   ]
  }
 ],
 "metadata": {
  "kernelspec": {
   "display_name": "Python 3",
   "language": "python",
   "name": "python3"
  },
  "language_info": {
   "codemirror_mode": {
    "name": "ipython",
    "version": 3
   },
   "file_extension": ".py",
   "mimetype": "text/x-python",
   "name": "python",
   "nbconvert_exporter": "python",
   "pygments_lexer": "ipython3",
   "version": "3.11.5"
  }
 },
 "nbformat": 4,
 "nbformat_minor": 2
}
